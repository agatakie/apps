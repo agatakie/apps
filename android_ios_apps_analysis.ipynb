{
 "cells": [
  {
   "cell_type": "markdown",
   "metadata": {},
   "source": [
    "# Popular apps for Android and iOS\n",
    "\n",
    "The aim of the project is to conclude what types of apps are attractive for users.\n",
    "\n",
    "We are going to analyse apps data."
   ]
  },
  {
   "cell_type": "markdown",
   "metadata": {},
   "source": [
    "First step will be opening our databases and saving them as list of lists which will make further analysis lot easier."
   ]
  },
  {
   "cell_type": "code",
   "execution_count": 1,
   "metadata": {},
   "outputs": [],
   "source": [
    "android = r'''C:\\Users\\User\\notebooks\\android_ios_apps_analysis\\googleplaystore.csv'''\n",
    "ios = r'''C:\\Users\\User\\notebooks\\android_ios_apps_analysis\\AppleStore.csv'''\n",
    "\n",
    "def list_file(file):\n",
    "    from csv import reader\n",
    "    with open(file, encoding=\"utf8\") as open_file:\n",
    "        read_file = reader(open_file)\n",
    "        apps_data = list(read_file)\n",
    "    return apps_data\n",
    "    \n",
    "android_data = list_file(android)\n",
    "ios_data = list_file(ios)"
   ]
  },
  {
   "cell_type": "markdown",
   "metadata": {},
   "source": [
    "What we do next is exploring our data. Below you can find sample - first 5 rows of each data set. "
   ]
  },
  {
   "cell_type": "code",
   "execution_count": 2,
   "metadata": {
    "scrolled": true
   },
   "outputs": [],
   "source": [
    "def explore_data(dataset, start, end, rows_and_columns=False):\n",
    "    dataset_slice = dataset[start:end]    \n",
    "    for row in dataset_slice:\n",
    "        print(row)\n",
    "        print('\\n') # adds a new (empty) line after each row\n",
    "\n",
    "    if rows_and_columns:\n",
    "        print('Number of rows:', len(dataset))\n",
    "        print('Number of columns:', len(dataset[0]))\n",
    "        print('\\n')        \n"
   ]
  },
  {
   "cell_type": "code",
   "execution_count": 3,
   "metadata": {},
   "outputs": [
    {
     "name": "stdout",
     "output_type": "stream",
     "text": [
      "['Photo Editor & Candy Camera & Grid & ScrapBook', 'ART_AND_DESIGN', '4.1', '159', '19M', '10,000+', 'Free', '0', 'Everyone', 'Art & Design', 'January 7, 2018', '1.0.0', '4.0.3 and up']\n",
      "\n",
      "\n",
      "['Coloring book moana', 'ART_AND_DESIGN', '3.9', '967', '14M', '500,000+', 'Free', '0', 'Everyone', 'Art & Design;Pretend Play', 'January 15, 2018', '2.0.0', '4.0.3 and up']\n",
      "\n",
      "\n",
      "['U Launcher Lite – FREE Live Cool Themes, Hide Apps', 'ART_AND_DESIGN', '4.7', '87510', '8.7M', '5,000,000+', 'Free', '0', 'Everyone', 'Art & Design', 'August 1, 2018', '1.2.4', '4.0.3 and up']\n",
      "\n",
      "\n",
      "['Sketch - Draw & Paint', 'ART_AND_DESIGN', '4.5', '215644', '25M', '50,000,000+', 'Free', '0', 'Teen', 'Art & Design', 'June 8, 2018', 'Varies with device', '4.2 and up']\n",
      "\n",
      "\n",
      "['Pixel Draw - Number Art Coloring Book', 'ART_AND_DESIGN', '4.3', '967', '2.8M', '100,000+', 'Free', '0', 'Everyone', 'Art & Design;Creativity', 'June 20, 2018', '1.1', '4.4 and up']\n",
      "\n",
      "\n",
      "Number of rows: 10842\n",
      "Number of columns: 13\n",
      "\n",
      "\n"
     ]
    }
   ],
   "source": [
    "first_five_android = explore_data(android_data, 1, 6, True)"
   ]
  },
  {
   "cell_type": "code",
   "execution_count": 4,
   "metadata": {
    "scrolled": false
   },
   "outputs": [
    {
     "name": "stdout",
     "output_type": "stream",
     "text": [
      "['1', '281656475', 'PAC-MAN Premium', '100788224', 'USD', '3.99', '21292', '26', '4', '4.5', '6.3.5', '4+', 'Games', '38', '5', '10', '1']\n",
      "\n",
      "\n",
      "['2', '281796108', 'Evernote - stay organized', '158578688', 'USD', '0', '161065', '26', '4', '3.5', '8.2.2', '4+', 'Productivity', '37', '5', '23', '1']\n",
      "\n",
      "\n",
      "['3', '281940292', 'WeatherBug - Local Weather, Radar, Maps, Alerts', '100524032', 'USD', '0', '188583', '2822', '3.5', '4.5', '5.0.0', '4+', 'Weather', '37', '5', '3', '1']\n",
      "\n",
      "\n",
      "['4', '282614216', 'eBay: Best App to Buy, Sell, Save! Online Shopping', '128512000', 'USD', '0', '262241', '649', '4', '4.5', '5.10.0', '12+', 'Shopping', '37', '5', '9', '1']\n",
      "\n",
      "\n",
      "['5', '282935706', 'Bible', '92774400', 'USD', '0', '985920', '5320', '4.5', '5', '7.5.1', '4+', 'Reference', '37', '5', '45', '1']\n",
      "\n",
      "\n",
      "Number of rows: 7198\n",
      "Number of columns: 17\n",
      "\n",
      "\n"
     ]
    }
   ],
   "source": [
    "first_five_ios = explore_data(ios_data, 1, 6, True)"
   ]
  },
  {
   "cell_type": "markdown",
   "metadata": {},
   "source": [
    "Below you can find column names. Here   you can find the documentation. \n",
    "https://www.kaggle.com/ramamet4/app-store-apple-data-set-10k-apps/home\n",
    "https://www.kaggle.com/lava18/google-play-store-apps"
   ]
  },
  {
   "cell_type": "code",
   "execution_count": 5,
   "metadata": {
    "scrolled": true
   },
   "outputs": [
    {
     "name": "stdout",
     "output_type": "stream",
     "text": [
      "['App', 'Category', 'Rating', 'Reviews', 'Size', 'Installs', 'Type', 'Price', 'Content Rating', 'Genres', 'Last Updated', 'Current Ver', 'Android Ver'] \n",
      "\n",
      "['', 'id', 'track_name', 'size_bytes', 'currency', 'price', 'rating_count_tot', 'rating_count_ver', 'user_rating', 'user_rating_ver', 'ver', 'cont_rating', 'prime_genre', 'sup_devices.num', 'ipadSc_urls.num', 'lang.num', 'vpp_lic'] \n",
      "\n"
     ]
    }
   ],
   "source": [
    "print(android_data[0], '\\n')\n",
    "print(ios_data[0], '\\n')"
   ]
  },
  {
   "cell_type": "markdown",
   "metadata": {},
   "source": [
    "To clean data we are going to remove from Google dataset one entry with missing value in the field 'Rating'. For details check this discussion: https://www.kaggle.com/lava18/google-play-store-apps/discussion/66015"
   ]
  },
  {
   "cell_type": "code",
   "execution_count": 6,
   "metadata": {},
   "outputs": [
    {
     "name": "stdout",
     "output_type": "stream",
     "text": [
      "['App', 'Category', 'Rating', 'Reviews', 'Size', 'Installs', 'Type', 'Price', 'Content Rating', 'Genres', 'Last Updated', 'Current Ver', 'Android Ver']\n",
      "['Life Made WI-Fi Touchscreen Photo Frame', '1.9', '19', '3.0M', '1,000+', 'Free', '0', 'Everyone', '', 'February 11, 2018', '1.0.19', '4.0 and up']\n"
     ]
    }
   ],
   "source": [
    "print(android_data[0])\n",
    "print(android_data[10473])"
   ]
  },
  {
   "cell_type": "markdown",
   "metadata": {},
   "source": [
    "We are going to remove erroneous entry."
   ]
  },
  {
   "cell_type": "markdown",
   "metadata": {},
   "source": [
    "del android_data[10473]"
   ]
  },
  {
   "cell_type": "code",
   "execution_count": 8,
   "metadata": {
    "scrolled": true
   },
   "outputs": [
    {
     "name": "stdout",
     "output_type": "stream",
     "text": [
      "Correctly removed\n"
     ]
    }
   ],
   "source": [
    "\n",
    "if android_data[10473][0] == 'osmino Wi-Fi: free WiFi':\n",
    "    print('Correctly removed')\n",
    "else:\n",
    "    print('Something went wrong, check it')"
   ]
  },
  {
   "cell_type": "markdown",
   "metadata": {},
   "source": [
    "Google Play dataset has duplicate records as you can see below."
   ]
  },
  {
   "cell_type": "code",
   "execution_count": 9,
   "metadata": {},
   "outputs": [
    {
     "name": "stdout",
     "output_type": "stream",
     "text": [
      "['Instagram', 'SOCIAL', '4.5', '66577313', 'Varies with device', '1,000,000,000+', 'Free', '0', 'Teen', 'Social', 'July 31, 2018', 'Varies with device', 'Varies with device']\n",
      "['Instagram', 'SOCIAL', '4.5', '66577446', 'Varies with device', '1,000,000,000+', 'Free', '0', 'Teen', 'Social', 'July 31, 2018', 'Varies with device', 'Varies with device']\n",
      "['Instagram', 'SOCIAL', '4.5', '66577313', 'Varies with device', '1,000,000,000+', 'Free', '0', 'Teen', 'Social', 'July 31, 2018', 'Varies with device', 'Varies with device']\n",
      "['Instagram', 'SOCIAL', '4.5', '66509917', 'Varies with device', '1,000,000,000+', 'Free', '0', 'Teen', 'Social', 'July 31, 2018', 'Varies with device', 'Varies with device']\n",
      "\n",
      "\n",
      "Instagram appears 4 times.\n"
     ]
    }
   ],
   "source": [
    "duplicate_app = 0\n",
    "\n",
    "for app in android_data:\n",
    "    if app[0] == 'Instagram':\n",
    "        print(app)\n",
    "        duplicate_app += 1\n",
    "\n",
    "print('\\n')\n",
    "print('Instagram appears', duplicate_app, 'times.')"
   ]
  },
  {
   "cell_type": "markdown",
   "metadata": {},
   "source": [
    "We are going to count duplicates in Google dataset now."
   ]
  },
  {
   "cell_type": "code",
   "execution_count": 10,
   "metadata": {},
   "outputs": [
    {
     "name": "stdout",
     "output_type": "stream",
     "text": [
      "Unique apps:  10840 \n",
      "\n",
      "Duplicate apps:  1181 \n",
      "\n",
      "First fifteen duplicates:  \n",
      " ['Quick PDF Scanner + OCR FREE', 'Box', 'Google My Business', 'ZOOM Cloud Meetings', 'join.me - Simple Meetings', 'Box', 'Zenefits', 'Google Ads', 'Google My Business', 'Slack', 'FreshBooks Classic', 'Insightly CRM', 'QuickBooks Accounting: Invoicing & Expenses', 'HipChat - Chat Built for Teams', 'Xero Accounting Software']\n"
     ]
    }
   ],
   "source": [
    "duplicate_apps_android = []\n",
    "unique_apps_android = []\n",
    "\n",
    "for app in android_data[1:]:\n",
    "    name = app[0]\n",
    "    if name in unique_apps_android:\n",
    "        duplicate_apps_android.append(name)\n",
    "    unique_apps_android.append(name)\n",
    "\n",
    "first_fifteen = duplicate_apps_android[:15]\n",
    "\n",
    "print('Unique apps: ', len(unique_apps_android), '\\n')\n",
    "print('Duplicate apps: ', len(duplicate_apps_android), '\\n')\n",
    "print('First fifteen duplicates: ', '\\n', first_fifteen)\n",
    "      "
   ]
  },
  {
   "cell_type": "markdown",
   "metadata": {},
   "source": [
    "We are going to remove duplicates. As observed, they differ in number of reviews - it might suggest that some of duplicates were collected earlier and some later. We want our data to be most recent - therefore we will choose unique records with the biggest amount of reviews."
   ]
  },
  {
   "cell_type": "code",
   "execution_count": 11,
   "metadata": {},
   "outputs": [
    {
     "name": "stdout",
     "output_type": "stream",
     "text": [
      "9659\n"
     ]
    }
   ],
   "source": [
    "expected_unique = len(unique_apps_android) - len(duplicate_apps_android)\n",
    "\n",
    "reviews_max = { }\n",
    "for app in android_data[1:]:\n",
    "    name = app[0]\n",
    "    n_reviews = float(app[3])\n",
    "    \n",
    "    if name in reviews_max and reviews_max[name] < n_reviews:\n",
    "        reviews_max[name] = n_reviews\n",
    "        \n",
    "    elif name not in reviews_max:\n",
    "        reviews_max[name] = n_reviews\n",
    "    \n",
    "print(len(reviews_max))"
   ]
  },
  {
   "cell_type": "markdown",
   "metadata": {},
   "source": [
    "Above we created additional dictionary which stores unique app names with highest number of reviews.\n",
    "\n",
    "We will use it to create android_clean list - list of lists containing all data apps but without duplicates. To track changes, we create already_cleaned list which contains uniques names of apps already added to android_clean."
   ]
  },
  {
   "cell_type": "code",
   "execution_count": 12,
   "metadata": {},
   "outputs": [
    {
     "name": "stdout",
     "output_type": "stream",
     "text": [
      "9659\n"
     ]
    }
   ],
   "source": [
    "android_clean = [ ]\n",
    "already_added = [ ]\n",
    "\n",
    "for app in android_data[1:]:\n",
    "    name = app[0]\n",
    "    n_reviews = float(app[3])\n",
    "    \n",
    "    if n_reviews == reviews_max[name] and name not in already_added:\n",
    "        android_clean.append(app)\n",
    "        already_added.append(name)\n",
    "        \n",
    "print(len(android_clean))"
   ]
  },
  {
   "cell_type": "markdown",
   "metadata": {},
   "source": [
    "We are going to counnt entries with english names for both datasets."
   ]
  },
  {
   "cell_type": "code",
   "execution_count": 13,
   "metadata": {
    "scrolled": true
   },
   "outputs": [
    {
     "name": "stdout",
     "output_type": "stream",
     "text": [
      "9596\n",
      "7197\n"
     ]
    }
   ],
   "source": [
    "def if_english(app_data):\n",
    "    english_names = [ ]\n",
    "    for app in app_data[1:]:\n",
    "        string = app[0]\n",
    "        three_signs = 0\n",
    "        \n",
    "        for char in string:\n",
    "            if ord(char) > 127:\n",
    "                three_signs += 1\n",
    "        \n",
    "        if three_signs < 3:\n",
    "            english_names.append(app)\n",
    "\n",
    "    return english_names\n",
    "\n",
    "english_names_android = if_english(android_clean)\n",
    "english_names_ios = if_english(ios_data)\n",
    "\n",
    "print(len(english_names_android))\n",
    "print(len(english_names_ios))"
   ]
  },
  {
   "cell_type": "markdown",
   "metadata": {},
   "source": [
    "As mentioned before, aim of our analysis is oto find out which apps are polular among users and in which direction should we go developing new apps.\n",
    "\n",
    "Out strategy for new products can be shorten to the following 3 steps:\n",
    "1. Basic Android version of the app. If it has positive feedback...\n",
    "2. ...further development of Android app. It it is profitable for the next six months...\n",
    "3. ...iOS version of the app.\n",
    "\n",
    "Therefore, we need to find app genres succesful on both markets."
   ]
  },
  {
   "cell_type": "markdown",
   "metadata": {},
   "source": [
    "Firstly, we will isolate free apps in both datasets."
   ]
  },
  {
   "cell_type": "code",
   "execution_count": 38,
   "metadata": {},
   "outputs": [
    {
     "name": "stdout",
     "output_type": "stream",
     "text": [
      "8847 4056\n"
     ]
    }
   ],
   "source": [
    "def if_free(app_data):\n",
    "    free_apps = [ ]\n",
    "    \n",
    "    for app in app_data:\n",
    "        if app[5] == '0' or app[6] == 'Free':\n",
    "            free_apps.append(app)\n",
    "            \n",
    "    return free_apps\n",
    "        \n",
    "free_apps_android = if_free(english_names_android)\n",
    "free_apps_ios = if_free(english_names_ios)\n",
    "\n",
    "total_free_android = len(free_apps_android)\n",
    "total_free_ios = len(free_apps_ios)\n",
    "\n",
    "print(total_free_android, total_free_ios)"
   ]
  },
  {
   "cell_type": "code",
   "execution_count": 15,
   "metadata": {},
   "outputs": [
    {
     "name": "stdout",
     "output_type": "stream",
     "text": [
      "['ART_AND_DESIGN', 'AUTO_AND_VEHICLES', 'BEAUTY', 'BOOKS_AND_REFERENCE', 'BUSINESS', 'COMICS', 'COMMUNICATION', 'DATING', 'EDUCATION', 'ENTERTAINMENT', 'EVENTS', 'FINANCE', 'FOOD_AND_DRINK', 'HEALTH_AND_FITNESS', 'HOUSE_AND_HOME', 'LIBRARIES_AND_DEMO', 'LIFESTYLE', 'GAME', 'FAMILY', 'MEDICAL', 'SOCIAL', 'SHOPPING', 'PHOTOGRAPHY', 'SPORTS', 'TRAVEL_AND_LOCAL', 'TOOLS', 'PERSONALIZATION', 'PRODUCTIVITY', 'PARENTING', 'WEATHER', 'VIDEO_PLAYERS', 'NEWS_AND_MAGAZINES', 'MAPS_AND_NAVIGATION']\n"
     ]
    }
   ],
   "source": [
    "genres = []\n",
    "\n",
    "def genres_list(dataset,index): \n",
    "    for app in dataset:\n",
    "        if app[index] not in genres:\n",
    "            genres.append(app[index])\n",
    "\n",
    "    print(genres)\n",
    "    \n",
    "genres_list(free_apps_android,1)\n",
    "            "
   ]
  },
  {
   "cell_type": "code",
   "execution_count": 16,
   "metadata": {},
   "outputs": [
    {
     "name": "stdout",
     "output_type": "stream",
     "text": [
      "['U Launcher Lite – FREE Live Cool Themes, Hide Apps', 'ART_AND_DESIGN', '4.7', '87510', '8.7M', '5,000,000+', 'Free', '0', 'Everyone', 'Art & Design', 'August 1, 2018', '1.2.4', '4.0.3 and up']\n"
     ]
    }
   ],
   "source": [
    "print(free_apps_android[0])"
   ]
  },
  {
   "cell_type": "code",
   "execution_count": 41,
   "metadata": {},
   "outputs": [
    {
     "name": "stdout",
     "output_type": "stream",
     "text": [
      "{'ART_AND_DESIGN': 729, 'AUTO_AND_VEHICLES': 1067, 'BEAUTY': 690, 'BOOKS_AND_REFERENCE': 2458, 'BUSINESS': 5292, 'COMICS': 703, 'COMMUNICATION': 3719, 'DATING': 2146, 'EDUCATION': 1340, 'ENTERTAINMENT': 1106, 'EVENTS': 820, 'FINANCE': 4265, 'FOOD_AND_DRINK': 1431, 'HEALTH_AND_FITNESS': 3550, 'HOUSE_AND_HOME': 924, 'LIBRARIES_AND_DEMO': 1080, 'LIFESTYLE': 4473, 'GAME': 11155, 'FAMILY': 21789, 'MEDICAL': 4070, 'SOCIAL': 3069, 'SHOPPING': 2588, 'PHOTOGRAPHY': 3394, 'SPORTS': 3901, 'TRAVEL_AND_LOCAL': 2692, 'TOOLS': 9725, 'PERSONALIZATION': 3823, 'PRODUCTIVITY': 4486, 'PARENTING': 755, 'WEATHER': 911, 'VIDEO_PLAYERS': 2068, 'NEWS_AND_MAGAZINES': 3225, 'MAPS_AND_NAVIGATION': 1600}\n",
      "\n",
      "\n",
      "{'Productivity': 1055, 'Weather': 528, 'Shopping': 2058, 'Reference': 341, 'Finance': 1429, 'Music': 1140, 'Utilities': 1854, 'Travel': 953, 'Social Networking': 2432, 'Sports': 1344, 'Health & Fitness': 1293, 'Games': 38370, 'Food & Drink': 732, 'News': 987, 'Book': 1123, 'Photo & Video': 2840, 'Entertainment': 5679, 'Business': 341, 'Lifestyle': 1599, 'Education': 2245, 'Navigation': 341, 'Medical': 137, 'Catalogs': 154}\n",
      "\n",
      "\n",
      "{'ART_AND_DESIGN': 8.240081383519836, 'AUTO_AND_VEHICLES': 12.060585509212164, 'BEAUTY': 7.799253984401493, 'BOOKS_AND_REFERENCE': 27.783429411099807, 'BUSINESS': 59.81688708036622, 'COMICS': 7.9461964507742735, 'COMMUNICATION': 42.03684864925963, 'DATING': 24.256810218153046, 'EDUCATION': 15.146377303040579, 'ENTERTAINMENT': 12.501412908330508, 'EVENTS': 9.26867864812931, 'FINANCE': 48.20843223691647, 'FOOD_AND_DRINK': 16.17497456765005, 'HEALTH_AND_FITNESS': 40.12659658641347, 'HOUSE_AND_HOME': 10.444218379111565, 'LIBRARIES_AND_DEMO': 12.207527975584945, 'LIFESTYLE': 50.559511698880975, 'GAME': 126.08793941449079, 'FAMILY': 246.28687690742623, 'MEDICAL': 46.00429524132474, 'SOCIAL': 34.68972533062055, 'SHOPPING': 29.252854074827628, 'PHOTOGRAPHY': 38.36328698994009, 'SPORTS': 44.09404317847858, 'TRAVEL_AND_LOCAL': 30.42839380580988, 'TOOLS': 109.92426811348479, 'PERSONALIZATION': 43.21238838024189, 'PRODUCTIVITY': 50.70645416525375, 'PARENTING': 8.533966316265401, 'WEATHER': 10.297275912738781, 'VIDEO_PLAYERS': 23.375155419916354, 'NEWS_AND_MAGAZINES': 36.45303492709393, 'MAPS_AND_NAVIGATION': 18.085226630496212}\n",
      "\n",
      "\n",
      "{'Productivity': 26.010848126232744, 'Weather': 13.017751479289942, 'Shopping': 50.7396449704142, 'Reference': 8.407297830374754, 'Finance': 35.23175542406312, 'Music': 28.106508875739642, 'Utilities': 45.710059171597635, 'Travel': 23.49605522682446, 'Social Networking': 59.96055226824457, 'Sports': 33.13609467455622, 'Health & Fitness': 31.87869822485207, 'Games': 946.0059171597633, 'Food & Drink': 18.04733727810651, 'News': 24.33431952662722, 'Book': 27.687376725838263, 'Photo & Video': 70.01972386587771, 'Entertainment': 140.0147928994083, 'Business': 8.407297830374754, 'Lifestyle': 39.42307692307692, 'Education': 55.350098619329394, 'Navigation': 8.407297830374754, 'Medical': 3.3777120315581852, 'Catalogs': 3.796844181459566}\n"
     ]
    }
   ],
   "source": [
    "def freq_table(dataset,index):\n",
    "    freq_dict = {}\n",
    "    for app in dataset:\n",
    "        for genre in app:\n",
    "            genre = app[index]\n",
    "            if genre not in freq_dict:\n",
    "                freq_dict[genre] = 1\n",
    "            freq_dict[genre] += 1\n",
    "    return freq_dict\n",
    "\n",
    "result_android = freq_table(free_apps_android,1)\n",
    "result_ios = freq_table(free_apps_ios,12)\n",
    "\n",
    "print(result_android)\n",
    "print('\\n')\n",
    "print(result_ios)\n",
    "print('\\n')\n",
    "\n",
    "def freq_table_percent(freq, total):\n",
    "    freq_dict_percent = {}\n",
    "    for gen in freq:\n",
    "        freq_dict_percent[gen] = freq[gen] / total * 100\n",
    "    return freq_dict_percent\n",
    "\n",
    "result_percent_android = freq_table_percent(result_android, total_free_android)\n",
    "result_percent_ios = freq_table_percent(result_ios, total_free_ios)\n",
    "\n",
    "print(result_percent_android)\n",
    "print('\\n')\n",
    "print(result_percent_ios)"
   ]
  },
  {
   "cell_type": "markdown",
   "metadata": {},
   "source": [
    "The display_table() function you see below:\n",
    "\n",
    "Takes in two parameters: dataset and index. dataset is expected to be a list of lists, and index is expected to be an integer\n",
    "Generates a frequency table (done)\n",
    "Transforms the frequency table into a list of tuples, and then it sorts the list in a descending order\n",
    "Prints the entries of the frequency table in descending order."
   ]
  },
  {
   "cell_type": "code",
   "execution_count": 55,
   "metadata": {},
   "outputs": [],
   "source": [
    "def display_table(dataset, index):\n",
    "    table = freq_table(dataset,index)\n",
    "    table_display = []\n",
    "    for key in table:\n",
    "        key_val_as_tuple = (table[key], key)\n",
    "        table_display.append(key_val_as_tuple)\n",
    "    table_sorted = sorted(table_display,reverse = True)\n",
    "    for entry in table_sorted:\n",
    "        print(entry[1],':', entry[0])\n",
    "    print('\\n')         "
   ]
  },
  {
   "cell_type": "code",
   "execution_count": 56,
   "metadata": {},
   "outputs": [
    {
     "name": "stdout",
     "output_type": "stream",
     "text": [
      "FAMILY : 21789\n",
      "GAME : 11155\n",
      "TOOLS : 9725\n",
      "BUSINESS : 5292\n",
      "PRODUCTIVITY : 4486\n",
      "LIFESTYLE : 4473\n",
      "FINANCE : 4265\n",
      "MEDICAL : 4070\n",
      "SPORTS : 3901\n",
      "PERSONALIZATION : 3823\n",
      "COMMUNICATION : 3719\n",
      "HEALTH_AND_FITNESS : 3550\n",
      "PHOTOGRAPHY : 3394\n",
      "NEWS_AND_MAGAZINES : 3225\n",
      "SOCIAL : 3069\n",
      "TRAVEL_AND_LOCAL : 2692\n",
      "SHOPPING : 2588\n",
      "BOOKS_AND_REFERENCE : 2458\n",
      "DATING : 2146\n",
      "VIDEO_PLAYERS : 2068\n",
      "MAPS_AND_NAVIGATION : 1600\n",
      "FOOD_AND_DRINK : 1431\n",
      "EDUCATION : 1340\n",
      "ENTERTAINMENT : 1106\n",
      "LIBRARIES_AND_DEMO : 1080\n",
      "AUTO_AND_VEHICLES : 1067\n",
      "HOUSE_AND_HOME : 924\n",
      "WEATHER : 911\n",
      "EVENTS : 820\n",
      "PARENTING : 755\n",
      "ART_AND_DESIGN : 729\n",
      "COMICS : 703\n",
      "BEAUTY : 690\n",
      "\n",
      "\n"
     ]
    }
   ],
   "source": [
    "display_table(free_apps_android,1)"
   ]
  },
  {
   "cell_type": "code",
   "execution_count": 57,
   "metadata": {},
   "outputs": [
    {
     "name": "stdout",
     "output_type": "stream",
     "text": [
      "Tools : 9712\n",
      "Entertainment : 6995\n",
      "Education : 6163\n",
      "Business : 5292\n",
      "Productivity : 4486\n",
      "Lifestyle : 4460\n",
      "Finance : 4265\n",
      "Medical : 4070\n",
      "Sports : 3979\n",
      "Personalization : 3823\n",
      "Communication : 3719\n",
      "Action : 3563\n",
      "Health & Fitness : 3550\n",
      "Photography : 3394\n",
      "News & Magazines : 3225\n",
      "Social : 3069\n",
      "Travel & Local : 2679\n",
      "Shopping : 2588\n",
      "Books & Reference : 2458\n",
      "Simulation : 2354\n",
      "Dating : 2146\n",
      "Arcade : 2120\n",
      "Video Players & Editors : 2042\n",
      "Casual : 2029\n",
      "Maps & Navigation : 1600\n",
      "Food & Drink : 1431\n",
      "Puzzle : 1301\n",
      "Racing : 1145\n",
      "Role Playing : 1080\n",
      "Libraries & Demo : 1080\n",
      "Auto & Vehicles : 1067\n",
      "Strategy : 1054\n",
      "House & Home : 924\n",
      "Weather : 911\n",
      "Events : 820\n",
      "Adventure : 768\n",
      "Comics : 690\n",
      "Beauty : 690\n",
      "Art & Design : 677\n",
      "Parenting : 573\n",
      "Card : 521\n",
      "Trivia : 482\n",
      "Casino : 482\n",
      "Educational;Education : 456\n",
      "Board : 443\n",
      "Educational : 430\n",
      "Education;Education : 391\n",
      "Word : 300\n",
      "Casual;Pretend Play : 274\n",
      "Music : 235\n",
      "Racing;Action & Adventure : 196\n",
      "Puzzle;Brain Games : 196\n",
      "Entertainment;Music & Video : 196\n",
      "Casual;Brain Games : 157\n",
      "Casual;Action & Adventure : 157\n",
      "Arcade;Action & Adventure : 144\n",
      "Action;Action & Adventure : 118\n",
      "Educational;Pretend Play : 105\n",
      "Simulation;Action & Adventure : 92\n",
      "Parenting;Education : 92\n",
      "Entertainment;Brain Games : 92\n",
      "Board;Brain Games : 92\n",
      "Parenting;Music & Video : 79\n",
      "Educational;Brain Games : 79\n",
      "Casual;Creativity : 79\n",
      "Art & Design;Creativity : 79\n",
      "Education;Pretend Play : 66\n",
      "Role Playing;Pretend Play : 53\n",
      "Education;Creativity : 53\n",
      "Role Playing;Action & Adventure : 40\n",
      "Puzzle;Action & Adventure : 40\n",
      "Entertainment;Creativity : 40\n",
      "Entertainment;Action & Adventure : 40\n",
      "Educational;Creativity : 40\n",
      "Educational;Action & Adventure : 40\n",
      "Education;Music & Video : 40\n",
      "Education;Brain Games : 40\n",
      "Education;Action & Adventure : 40\n",
      "Adventure;Action & Adventure : 40\n",
      "Video Players & Editors;Music & Video : 27\n",
      "Sports;Action & Adventure : 27\n",
      "Simulation;Pretend Play : 27\n",
      "Puzzle;Creativity : 27\n",
      "Music;Music & Video : 27\n",
      "Entertainment;Pretend Play : 27\n",
      "Casual;Education : 27\n",
      "Board;Action & Adventure : 27\n",
      "Video Players & Editors;Creativity : 14\n",
      "Trivia;Education : 14\n",
      "Travel & Local;Action & Adventure : 14\n",
      "Tools;Education : 14\n",
      "Strategy;Education : 14\n",
      "Strategy;Creativity : 14\n",
      "Strategy;Action & Adventure : 14\n",
      "Simulation;Education : 14\n",
      "Role Playing;Brain Games : 14\n",
      "Racing;Pretend Play : 14\n",
      "Puzzle;Education : 14\n",
      "Parenting;Brain Games : 14\n",
      "Music & Audio;Music & Video : 14\n",
      "Lifestyle;Pretend Play : 14\n",
      "Lifestyle;Education : 14\n",
      "Health & Fitness;Education : 14\n",
      "Health & Fitness;Action & Adventure : 14\n",
      "Entertainment;Education : 14\n",
      "Communication;Creativity : 14\n",
      "Comics;Creativity : 14\n",
      "Casual;Music & Video : 14\n",
      "Card;Action & Adventure : 14\n",
      "Books & Reference;Education : 14\n",
      "Art & Design;Pretend Play : 14\n",
      "Art & Design;Action & Adventure : 14\n",
      "Arcade;Pretend Play : 14\n",
      "Adventure;Education : 14\n",
      "\n",
      "\n"
     ]
    }
   ],
   "source": [
    "display_table(free_apps_android,9)"
   ]
  },
  {
   "cell_type": "code",
   "execution_count": 58,
   "metadata": {},
   "outputs": [
    {
     "name": "stdout",
     "output_type": "stream",
     "text": [
      "Games : 38370\n",
      "Entertainment : 5679\n",
      "Photo & Video : 2840\n",
      "Social Networking : 2432\n",
      "Education : 2245\n",
      "Shopping : 2058\n",
      "Utilities : 1854\n",
      "Lifestyle : 1599\n",
      "Finance : 1429\n",
      "Sports : 1344\n",
      "Health & Fitness : 1293\n",
      "Music : 1140\n",
      "Book : 1123\n",
      "Productivity : 1055\n",
      "News : 987\n",
      "Travel : 953\n",
      "Food & Drink : 732\n",
      "Weather : 528\n",
      "Reference : 341\n",
      "Navigation : 341\n",
      "Business : 341\n",
      "Catalogs : 154\n",
      "Medical : 137\n",
      "\n",
      "\n"
     ]
    }
   ],
   "source": [
    "display_table(free_apps_ios,12)"
   ]
  },
  {
   "cell_type": "markdown",
   "metadata": {},
   "source": [
    "Analysis of frequency table"
   ]
  }
 ],
 "metadata": {
  "kernelspec": {
   "display_name": "Python 3",
   "language": "python",
   "name": "python3"
  },
  "language_info": {
   "codemirror_mode": {
    "name": "ipython",
    "version": 3
   },
   "file_extension": ".py",
   "mimetype": "text/x-python",
   "name": "python",
   "nbconvert_exporter": "python",
   "pygments_lexer": "ipython3",
   "version": "3.7.1"
  }
 },
 "nbformat": 4,
 "nbformat_minor": 2
}
